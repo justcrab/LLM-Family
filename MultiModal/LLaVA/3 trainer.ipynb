{
 "cells": [
  {
   "cell_type": "code",
   "execution_count": null,
   "id": "initial_id",
   "metadata": {
    "collapsed": true
   },
   "source": [
    "from dataclasses import dataclass, field\n",
    "from typing import Optional\n",
    "import transformers\n",
    "from transformers import LlavaProcessor, LlavaForConditionalGeneration\n"
   ],
   "outputs": []
  },
  {
   "metadata": {},
   "cell_type": "markdown",
   "source": "1 配置参数设置",
   "id": "8ea05ef419f1a29b"
  },
  {
   "metadata": {},
   "cell_type": "code",
   "execution_count": null,
   "source": [
    "@dataclass\n",
    "class ModelArguments:\n",
    "    model_name_or_path: Optional[str] = field(default=\"model/llava\")\n",
    "    \n",
    "@dataclass\n",
    "class DataArguments:\n",
    "    data_path: Optional[str] = field(default=\"model/data\")\n",
    "    image_dir: Optional[str] = field(default=\"model/images\")\n",
    "    \n",
    "@dataclass\n",
    "class TrainingArguments(transformers.TrainingArguments):\n",
    "    lora_enable: bool = False\n",
    "    lora_r: int = 64\n",
    "    lora_alpha: int = 16\n",
    "    lora_dropout: float = 0.05\n",
    "    lora_weight_path: str = \"\"\n",
    "    lora_bias: str = \"none\""
   ],
   "id": "2f83fd58093bac8c",
   "outputs": []
  },
  {
   "metadata": {},
   "cell_type": "markdown",
   "source": "2 配置模型和tokenizer和processor",
   "id": "59f884234e7a0668"
  },
  {
   "metadata": {},
   "cell_type": "code",
   "execution_count": null,
   "source": "",
   "id": "ea543946f3888df0",
   "outputs": []
  },
  {
   "metadata": {},
   "cell_type": "markdown",
   "source": "3 配置dataset和collator",
   "id": "41cb3f657984bc6e"
  },
  {
   "metadata": {},
   "cell_type": "code",
   "execution_count": null,
   "source": "",
   "id": "8e3591499fc6a8e1",
   "outputs": []
  },
  {
   "metadata": {},
   "cell_type": "markdown",
   "source": "4 配置trainer",
   "id": "58b4b21330f6bc91"
  },
  {
   "metadata": {},
   "cell_type": "code",
   "execution_count": null,
   "source": "",
   "id": "68ed9b95fb7f15b1",
   "outputs": []
  },
  {
   "metadata": {},
   "cell_type": "markdown",
   "source": "5 start",
   "id": "fdd25b85446bbe97"
  },
  {
   "metadata": {},
   "cell_type": "code",
   "execution_count": null,
   "source": [
    "if __name__ == \"__main__\":\n",
    "    pass"
   ],
   "id": "fa98d02c12942a86",
   "outputs": []
  }
 ],
 "metadata": {
  "kernelspec": {
   "display_name": "Python 3",
   "language": "python",
   "name": "python3"
  },
  "language_info": {
   "codemirror_mode": {
    "name": "ipython",
    "version": 2
   },
   "file_extension": ".py",
   "mimetype": "text/x-python",
   "name": "python",
   "nbconvert_exporter": "python",
   "pygments_lexer": "ipython2",
   "version": "2.7.6"
  }
 },
 "nbformat": 4,
 "nbformat_minor": 5
}
