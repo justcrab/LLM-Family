{
 "cells": [
  {
   "cell_type": "code",
   "execution_count": null,
   "id": "initial_id",
   "metadata": {
    "collapsed": true
   },
   "outputs": [],
   "source": [
    "from typing import Any\n",
    "\n",
    "DEEPSEEK_API_KEY=\"your api_key\"\n",
    "BASE_URL=\"https://api.deepseek.com\""
   ]
  },
  {
   "cell_type": "markdown",
   "id": "d0e1230cfe9c6de3",
   "metadata": {},
   "source": [
    "工具是Agent实现智能的重大入口，除了日常使用的第三方提供的Tools之外，开发者必须学会自定义自己的Tools.  \n",
    "Tool的三大关键参数：  \n",
    "* 1 name: str\n",
    "* 2 description: str\n",
    "* 3 args_schema: Pydantic BaseModel\n",
    "  \n",
    "自定义Tool有三种形式：\n",
    "* 1 自定义函数：使用@tool装饰器\n",
    "* 2 自定义类：继承BaseTool类实现_run方法和异步的_arun方法\n",
    "* 3 Structured Tool.from_function()\n",
    "### 1 自定义函数"
   ]
  },
  {
   "cell_type": "code",
   "execution_count": 3,
   "id": "57481778422ae216",
   "metadata": {
    "ExecuteTime": {
     "end_time": "2024-07-26T11:57:26.030102Z",
     "start_time": "2024-07-26T11:57:26.022788Z"
    }
   },
   "outputs": [
    {
     "name": "stdout",
     "output_type": "stream",
     "text": [
      "search\n",
      "在线查找内容\n",
      "{'query': {'title': 'Query', 'description': '需要查询的句子', 'type': 'string'}}\n"
     ]
    }
   ],
   "source": [
    "from langchain.tools import tool\n",
    "from langchain_core.pydantic_v1 import BaseModel, Field\n",
    "\n",
    "class SearchInput(BaseModel):\n",
    "    query: str = Field(description=\"需要查询的句子\")\n",
    "    \n",
    "@tool(args_schema=SearchInput)\n",
    "def search(query: str) -> str:\n",
    "    \"\"\"在线查找内容\"\"\"\n",
    "    return \"Welcome to LangChain!!\"\n",
    "\n",
    "print(search.name)\n",
    "print(search.description)\n",
    "print(search.args)"
   ]
  },
  {
   "cell_type": "markdown",
   "id": "bb9f8a1309dcdfec",
   "metadata": {},
   "source": [
    "### 2 继承BaseTool"
   ]
  },
  {
   "cell_type": "code",
   "execution_count": 6,
   "id": "df0a126050130bfd",
   "metadata": {
    "ExecuteTime": {
     "end_time": "2024-07-26T12:05:41.429687Z",
     "start_time": "2024-07-26T12:05:41.409273Z"
    }
   },
   "outputs": [
    {
     "name": "stdout",
     "output_type": "stream",
     "text": [
      "search\n",
      "在线查找内容\n",
      "{'query': {'title': 'Query', 'description': '需要查询的句子', 'type': 'string'}}\n"
     ]
    }
   ],
   "source": [
    "from langchain.tools import BaseTool\n",
    "from typing import Type\n",
    "from langchain_core.pydantic_v1 import BaseModel, Field\n",
    "from langchain.callbacks.manager import CallbackManagerForToolRun, AsyncCallbackManagerForToolRun\n",
    "\n",
    "class SearchInput(BaseModel):\n",
    "    query: str = Field(description=\"需要查询的句子\")\n",
    "\n",
    "class SearchTool(BaseTool):\n",
    "    name: str = \"search\"\n",
    "    description: str = \"在线查找内容\"\n",
    "    args_schema: Type[BaseModel] = SearchInput\n",
    "    \n",
    "    def _run(self, query: str, run_manager: CallbackManagerForToolRun = None)-> str:\n",
    "        return \"Welcome to LangChain!\"\n",
    "    \n",
    "    def _arun(self, query: str, run_manager: AsyncCallbackManagerForToolRun = None) -> str:\n",
    "        raise NotImplementedError(\"不支持异步\")\n",
    "    \n",
    "search = SearchTool()\n",
    "print(search.name)\n",
    "print(search.description)\n",
    "print(search.args)"
   ]
  },
  {
   "cell_type": "markdown",
   "id": "ef5a2ece81780a08",
   "metadata": {},
   "source": [
    "### 3 StructuredTool类"
   ]
  },
  {
   "cell_type": "code",
   "execution_count": 8,
   "id": "d552f9e5fceb9b1c",
   "metadata": {
    "ExecuteTime": {
     "end_time": "2024-07-26T12:08:26.377410Z",
     "start_time": "2024-07-26T12:08:26.365490Z"
    }
   },
   "outputs": [
    {
     "name": "stdout",
     "output_type": "stream",
     "text": [
      "search\n",
      "在线查找内容\n",
      "{'query': {'title': 'Query', 'description': '需要查询的句子', 'type': 'string'}}\n"
     ]
    }
   ],
   "source": [
    "from langchain.tools import tool, StructuredTool\n",
    "from langchain_core.pydantic_v1 import BaseModel, Field\n",
    "\n",
    "class SearchInput(BaseModel):\n",
    "    query: str = Field(description=\"需要查询的句子\")\n",
    "    \n",
    "def search(query: str) -> str:\n",
    "    \"\"\"在线查找内容\"\"\"\n",
    "    return \"Welcome to LangChain!!\"\n",
    "\n",
    "search = StructuredTool.from_function(\n",
    "    func=search, description=\"在线查找内容\", args_schema=SearchInput\n",
    ")\n",
    "print(search.name)\n",
    "print(search.description)\n",
    "print(search.args)"
   ]
  },
  {
   "cell_type": "markdown",
   "id": "71eeb2d974245e64",
   "metadata": {},
   "source": [
    "### 4 convert_to_openai_functions  \n",
    "该方式可以用于提供tool的openai_functions的形式"
   ]
  },
  {
   "cell_type": "code",
   "execution_count": 9,
   "id": "990ec4491cbc6c80",
   "metadata": {
    "ExecuteTime": {
     "end_time": "2024-07-26T12:11:04.488655Z",
     "start_time": "2024-07-26T12:11:04.469776Z"
    }
   },
   "outputs": [
    {
     "name": "stdout",
     "output_type": "stream",
     "text": [
      "{'name': 'search', 'description': '在线查找内容', 'parameters': {'type': 'object', 'properties': {'query': {'description': '需要查询的句子', 'type': 'string'}}, 'required': ['query']}}\n"
     ]
    }
   ],
   "source": [
    "from langchain_core.utils.function_calling import convert_to_openai_function\n",
    "\n",
    "functions = convert_to_openai_function(search)\n",
    "print(functions)"
   ]
  }
 ],
 "metadata": {
  "kernelspec": {
   "display_name": "Python 3",
   "language": "python",
   "name": "python3"
  },
  "language_info": {
   "codemirror_mode": {
    "name": "ipython",
    "version": 2
   },
   "file_extension": ".py",
   "mimetype": "text/x-python",
   "name": "python",
   "nbconvert_exporter": "python",
   "pygments_lexer": "ipython2",
   "version": "2.7.6"
  }
 },
 "nbformat": 4,
 "nbformat_minor": 5
}
