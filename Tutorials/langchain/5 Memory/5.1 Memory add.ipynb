{
 "cells": [
  {
   "cell_type": "code",
   "execution_count": 5,
   "id": "initial_id",
   "metadata": {
    "ExecuteTime": {
     "end_time": "2024-07-26T12:55:52.858993Z",
     "start_time": "2024-07-26T12:55:52.847018Z"
    }
   },
   "outputs": [],
   "source": [
    "from typing import Any\n",
    "\n",
    "DEEPSEEK_API_KEY=\"your api_key\"\n",
    "BASE_URL=\"https://api.deepseek.com\""
   ]
  },
  {
   "cell_type": "markdown",
   "id": "7a6ca95c1a154a52",
   "metadata": {},
   "source": [
    "Memory是chatbot的灵魂，如果一个聊天机器人无法记忆之间的对话，则对话起来没有顺畅感。  \n",
    "Memory有很多类型\n",
    "### 1 ConversationBufferMemory"
   ]
  },
  {
   "cell_type": "code",
   "execution_count": 9,
   "id": "a40dc48cb5dcef5e",
   "metadata": {
    "ExecuteTime": {
     "end_time": "2024-07-26T12:56:41.242615Z",
     "start_time": "2024-07-26T12:56:41.235556Z"
    }
   },
   "outputs": [
    {
     "name": "stdout",
     "output_type": "stream",
     "text": [
      "你是一个聊天机器人\n",
      "\n",
      "\u001b[33;1m\u001b[1;3m{chat_history}\u001b[0m\n",
      "user: \u001b[33;1m\u001b[1;3m{input}\u001b[0m\n",
      "robot:\n",
      "\n"
     ]
    }
   ],
   "source": [
    "from langchain_core.prompts import PromptTemplate\n",
    "template = \"\"\"你是一个聊天机器人\n",
    "\n",
    "{chat_history}\n",
    "user: {input}\n",
    "robot:\n",
    "\"\"\"\n",
    "prompt = PromptTemplate.from_template(template)\n",
    "prompt.pretty_print()"
   ]
  },
  {
   "cell_type": "code",
   "execution_count": 11,
   "id": "65dfbb9fbd0c0f83",
   "metadata": {
    "ExecuteTime": {
     "end_time": "2024-07-26T12:56:59.626013Z",
     "start_time": "2024-07-26T12:56:57.850626Z"
    }
   },
   "outputs": [
    {
     "name": "stdout",
     "output_type": "stream",
     "text": [
      "\n",
      "\n",
      "\u001b[1m> Entering new LLMChain chain...\u001b[0m\n",
      "Prompt after formatting:\n",
      "\u001b[32;1m\u001b[1;3m你是一个聊天机器人\n",
      "\n",
      "\n",
      "user: hello, my name is crab!\n",
      "robot:\n",
      "\u001b[0m\n",
      "\n",
      "\u001b[1m> Finished chain.\u001b[0m\n"
     ]
    },
    {
     "data": {
      "text/plain": [
       "{'input': 'hello, my name is crab!',\n",
       " 'chat_history': '',\n",
       " 'text': \"Hello, Crab! It's nice to meet you. How can I assist you today?\"}"
      ]
     },
     "execution_count": 11,
     "metadata": {},
     "output_type": "execute_result"
    }
   ],
   "source": [
    "from langchain.memory import ConversationBufferMemory\n",
    "from langchain_openai import ChatOpenAI\n",
    "from langchain.chains import LLMChain\n",
    "\n",
    "memory = ConversationBufferMemory(memory_key=\"chat_history\")\n",
    "llm = ChatOpenAI(model=\"deepseek-chat\", api_key=DEEPSEEK_API_KEY, base_url=BASE_URL)\n",
    "llm_chain = LLMChain(llm=llm, prompt=prompt, memory=memory, verbose=True)\n",
    "llm_chain.invoke({\"input\": \"hello, my name is crab!\"})"
   ]
  },
  {
   "cell_type": "code",
   "execution_count": 12,
   "id": "2bf52dabba9fc8d3",
   "metadata": {
    "ExecuteTime": {
     "end_time": "2024-07-26T12:57:19.061231Z",
     "start_time": "2024-07-26T12:57:17.471173Z"
    }
   },
   "outputs": [
    {
     "name": "stdout",
     "output_type": "stream",
     "text": [
      "\n",
      "\n",
      "\u001b[1m> Entering new LLMChain chain...\u001b[0m\n",
      "Prompt after formatting:\n",
      "\u001b[32;1m\u001b[1;3m你是一个聊天机器人\n",
      "\n",
      "Human: hello, my name is crab!\n",
      "AI: Hello, Crab! It's nice to meet you. How can I assist you today?\n",
      "user: hello, what's my name\n",
      "robot:\n",
      "\u001b[0m\n",
      "\n",
      "\u001b[1m> Finished chain.\u001b[0m\n"
     ]
    },
    {
     "data": {
      "text/plain": [
       "{'input': \"hello, what's my name\",\n",
       " 'chat_history': \"Human: hello, my name is crab!\\nAI: Hello, Crab! It's nice to meet you. How can I assist you today?\",\n",
       " 'text': \"You mentioned your name is Crab. Is there anything specific you'd like to talk about or need help with today?\"}"
      ]
     },
     "execution_count": 12,
     "metadata": {},
     "output_type": "execute_result"
    }
   ],
   "source": [
    "llm_chain.invoke({\"input\": \"hello, what's my name\"})"
   ]
  },
  {
   "cell_type": "code",
   "execution_count": 13,
   "id": "17ccba66f122ef00",
   "metadata": {
    "ExecuteTime": {
     "end_time": "2024-07-26T12:59:58.234937Z",
     "start_time": "2024-07-26T12:59:45.382407Z"
    }
   },
   "outputs": [
    {
     "name": "stdout",
     "output_type": "stream",
     "text": [
      "\n",
      "\n",
      "\u001b[1m> Entering new LLMChain chain...\u001b[0m\n",
      "Prompt after formatting:\n",
      "\u001b[32;1m\u001b[1;3m你是一个聊天机器人\n",
      "\n",
      "Human: hello, my name is crab!\n",
      "AI: Hello, Crab! It's nice to meet you. How can I assist you today?\n",
      "Human: hello, what's my name\n",
      "AI: You mentioned your name is Crab. Is there anything specific you'd like to talk about or need help with today?\n",
      "user: could you tell me some about my name's story\n",
      "robot:\n",
      "\u001b[0m\n",
      "\n",
      "\u001b[1m> Finished chain.\u001b[0m\n"
     ]
    },
    {
     "data": {
      "text/plain": [
       "{'input': \"could you tell me some about my name's story\",\n",
       " 'chat_history': \"Human: hello, my name is crab!\\nAI: Hello, Crab! It's nice to meet you. How can I assist you today?\\nHuman: hello, what's my name\\nAI: You mentioned your name is Crab. Is there anything specific you'd like to talk about or need help with today?\",\n",
       " 'text': 'Certainly, Crab! While I don\\'t have specific stories about your personal name, I can share some general insights about names and their significance.\\n\\nNames are often chosen for various reasons:\\n1. **Family Tradition**: Sometimes, names are passed down through generations, honoring ancestors or family members.\\n2. **Meaning**: Names can have meanings that reflect qualities or wishes for the person, such as strength, beauty, or success.\\n3. **Cultural Significance**: Names can be deeply rooted in cultural traditions, reflecting the heritage and values of the family.\\n4. **Personal Connection**: Some names are chosen because they have a personal significance to the parents, such as a favorite book character, a place, or a cherished memory.\\n\\nIn the case of your name \"Crab,\" it might be chosen for its uniqueness or perhaps because it has a special meaning to you or your family. Crabs are fascinating creatures known for their hard shells and ability to move sideways, which could symbolize resilience and adaptability.\\n\\nIf you have a specific story or reason behind your name, I\\'d love to hear more about it!'}"
      ]
     },
     "execution_count": 13,
     "metadata": {},
     "output_type": "execute_result"
    }
   ],
   "source": [
    "llm_chain.invoke({\"input\": \"could you tell me some about my name's story\"})"
   ]
  }
 ],
 "metadata": {
  "kernelspec": {
   "display_name": "Python 3",
   "language": "python",
   "name": "python3"
  },
  "language_info": {
   "codemirror_mode": {
    "name": "ipython",
    "version": 2
   },
   "file_extension": ".py",
   "mimetype": "text/x-python",
   "name": "python",
   "nbconvert_exporter": "python",
   "pygments_lexer": "ipython2",
   "version": "2.7.6"
  }
 },
 "nbformat": 4,
 "nbformat_minor": 5
}
