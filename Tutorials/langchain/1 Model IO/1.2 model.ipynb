{
 "cells": [
  {
   "metadata": {},
   "cell_type": "markdown",
   "source": [
    "## 1 ChatModel\n",
    "### 1.1 缓存\n",
    "ChatModel可以设置缓存，这样下一次询问将会直接复用之前的回答"
   ],
   "id": "bd10a2864a6d26f1"
  },
  {
   "metadata": {
    "ExecuteTime": {
     "end_time": "2024-07-26T11:39:58.675134Z",
     "start_time": "2024-07-26T11:39:55.597161Z"
    }
   },
   "cell_type": "code",
   "source": [
    "%%time\n",
    "DEEPSEEK_API_KEY=\"sk-98576b70127c47a796b03e439cb60d33\"\n",
    "BASE_URL=\"https://api.deepseek.com\"\n",
    "\n",
    "from langchain_openai import ChatOpenAI\n",
    "from langchain.cache import InMemoryCache\n",
    "from langchain.globals import set_llm_cache\n",
    "\n",
    "set_llm_cache(InMemoryCache())\n",
    "\n",
    "llm = ChatOpenAI(model=\"deepseek-chat\", api_key=DEEPSEEK_API_KEY, base_url=BASE_URL)\n",
    "llm.invoke(\"告诉我一个笑话\")"
   ],
   "id": "9592305474e2ace9",
   "outputs": [
    {
     "name": "stdout",
     "output_type": "stream",
     "text": [
      "CPU times: total: 62.5 ms\n",
      "Wall time: 3.07 s\n"
     ]
    },
    {
     "data": {
      "text/plain": [
       "AIMessage(content='当然可以，一个经典的笑话是这样的：\\n\\n为什么电脑去医院？\\n\\n因为它需要检查一下它的“病毒”！\\n\\n希望这个笑话能让你笑一笑！', response_metadata={'token_usage': {'completion_tokens': 35, 'prompt_tokens': 6, 'total_tokens': 41}, 'model_name': 'deepseek-chat', 'system_fingerprint': 'fp_7e0991cad4', 'finish_reason': 'stop', 'logprobs': None}, id='run-4d556787-c933-4436-b775-757b7e669dd7-0', usage_metadata={'input_tokens': 6, 'output_tokens': 35, 'total_tokens': 41})"
      ]
     },
     "execution_count": 3,
     "metadata": {},
     "output_type": "execute_result"
    }
   ],
   "execution_count": 3
  },
  {
   "metadata": {
    "ExecuteTime": {
     "end_time": "2024-07-26T11:40:07.004426Z",
     "start_time": "2024-07-26T11:40:06.988495Z"
    }
   },
   "cell_type": "code",
   "source": [
    "%%time\n",
    "llm.invoke(\"告诉我一个笑话\")"
   ],
   "id": "e53c67b1ad928051",
   "outputs": [
    {
     "name": "stdout",
     "output_type": "stream",
     "text": [
      "CPU times: total: 0 ns\n",
      "Wall time: 1.01 ms\n"
     ]
    },
    {
     "data": {
      "text/plain": [
       "AIMessage(content='当然可以，一个经典的笑话是这样的：\\n\\n为什么电脑去医院？\\n\\n因为它需要检查一下它的“病毒”！\\n\\n希望这个笑话能让你笑一笑！', response_metadata={'token_usage': {'completion_tokens': 35, 'prompt_tokens': 6, 'total_tokens': 41}, 'model_name': 'deepseek-chat', 'system_fingerprint': 'fp_7e0991cad4', 'finish_reason': 'stop', 'logprobs': None}, id='run-4d556787-c933-4436-b775-757b7e669dd7-0', usage_metadata={'input_tokens': 6, 'output_tokens': 35, 'total_tokens': 41})"
      ]
     },
     "execution_count": 4,
     "metadata": {},
     "output_type": "execute_result"
    }
   ],
   "execution_count": 4
  }
 ],
 "metadata": {
  "kernelspec": {
   "display_name": "Python 3",
   "language": "python",
   "name": "python3"
  },
  "language_info": {
   "codemirror_mode": {
    "name": "ipython",
    "version": 2
   },
   "file_extension": ".py",
   "mimetype": "text/x-python",
   "name": "python",
   "nbconvert_exporter": "python",
   "pygments_lexer": "ipython2",
   "version": "2.7.6"
  }
 },
 "nbformat": 4,
 "nbformat_minor": 5
}
