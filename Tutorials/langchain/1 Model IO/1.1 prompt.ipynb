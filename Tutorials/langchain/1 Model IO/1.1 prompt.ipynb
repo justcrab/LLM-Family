{
 "cells": [
  {
   "cell_type": "code",
   "id": "initial_id",
   "metadata": {
    "collapsed": true,
    "ExecuteTime": {
     "end_time": "2024-07-26T13:01:17.908521Z",
     "start_time": "2024-07-26T13:01:17.339557Z"
    }
   },
   "source": [
    "from langchain_core.prompts import PromptTemplate, FewShotPromptTemplate, ChatPromptTemplate\n",
    "\n",
    "# 1 PromptTemplate\n",
    "# 1.1 PromptTemplate() input_variables参数是可选的\n",
    "prompt = PromptTemplate(template=\"this is a good {sex}\", input_variables=[\"sex\"])\n",
    "print(prompt.format(sex=\"gril\"))"
   ],
   "outputs": [
    {
     "name": "stdout",
     "output_type": "stream",
     "text": [
      "this is a good gril\n"
     ]
    }
   ],
   "execution_count": 1
  },
  {
   "metadata": {
    "ExecuteTime": {
     "end_time": "2024-07-26T13:01:19.563556Z",
     "start_time": "2024-07-26T13:01:19.557555Z"
    }
   },
   "cell_type": "code",
   "source": [
    "# 1.2 PromptTemplate.from_template() input_variables参数是不能存在\n",
    "prompt = PromptTemplate.from_template(template=\"this is a good {sex}\")\n",
    "print(prompt.format(sex=\"gril\"))"
   ],
   "id": "644d933fdf072f81",
   "outputs": [
    {
     "name": "stdout",
     "output_type": "stream",
     "text": [
      "this is a good gril\n"
     ]
    }
   ],
   "execution_count": 2
  },
  {
   "metadata": {
    "ExecuteTime": {
     "end_time": "2024-07-26T13:01:20.558071Z",
     "start_time": "2024-07-26T13:01:20.545094Z"
    }
   },
   "cell_type": "code",
   "source": [
    "# 2 ChatPromptTemplate\n",
    "# 2.1 from_template 默认内部内容为HumanMessagePromptTemplate\n",
    "# 调用形式：llm.invoke(对象传参)\n",
    "prompt = ChatPromptTemplate.from_template(\"system:\\n you are a helpful assistant!\\n user:\\n hello?\")\n",
    "print(prompt)"
   ],
   "id": "f7189b3221f2ae25",
   "outputs": [
    {
     "name": "stdout",
     "output_type": "stream",
     "text": [
      "input_variables=[] messages=[HumanMessagePromptTemplate(prompt=PromptTemplate(input_variables=[], template='system:\\n you are a helpful assistant!\\n user:\\n hello?'))]\n"
     ]
    }
   ],
   "execution_count": 3
  },
  {
   "metadata": {
    "ExecuteTime": {
     "end_time": "2024-07-26T13:01:21.213020Z",
     "start_time": "2024-07-26T13:01:21.206213Z"
    }
   },
   "cell_type": "code",
   "source": [
    "# 2.2 from_messages 调用形式：llm.invoke({\"message\": [(\"user\", state[\"input\"])]})\n",
    "prompt = ChatPromptTemplate.from_messages([\n",
    "    (\"system\", \"you are a helpful assistant!\"),\n",
    "    (\"user\", \"hello?\"),\n",
    "    (\"placeholder\", \"{messages}\")\n",
    "])\n",
    "print(prompt.format(messages=[(\"assistant\", \"i am fine, and you?\")]))"
   ],
   "id": "d724bf62e29a97f",
   "outputs": [
    {
     "name": "stdout",
     "output_type": "stream",
     "text": [
      "System: you are a helpful assistant!\n",
      "Human: hello?\n",
      "AI: i am fine, and you?\n"
     ]
    }
   ],
   "execution_count": 4
  },
  {
   "metadata": {
    "ExecuteTime": {
     "end_time": "2024-07-26T13:01:21.855914Z",
     "start_time": "2024-07-26T13:01:21.842091Z"
    }
   },
   "cell_type": "code",
   "source": [
    "prompt = ChatPromptTemplate.from_messages([\n",
    "    (\"system\", \"you are a helpful assistant!\"),\n",
    "    (\"user\", \"{input}\"),\n",
    "])\n",
    "print(prompt.format(input=\"hello?\"))"
   ],
   "id": "79bd42990f3f47d7",
   "outputs": [
    {
     "name": "stdout",
     "output_type": "stream",
     "text": [
      "System: you are a helpful assistant!\n",
      "Human: hello?\n"
     ]
    }
   ],
   "execution_count": 5
  },
  {
   "metadata": {},
   "cell_type": "code",
   "outputs": [],
   "execution_count": null,
   "source": "",
   "id": "a9b0b83805e79e23"
  }
 ],
 "metadata": {
  "kernelspec": {
   "display_name": "Python 3",
   "language": "python",
   "name": "python3"
  },
  "language_info": {
   "codemirror_mode": {
    "name": "ipython",
    "version": 2
   },
   "file_extension": ".py",
   "mimetype": "text/x-python",
   "name": "python",
   "nbconvert_exporter": "python",
   "pygments_lexer": "ipython2",
   "version": "2.7.6"
  }
 },
 "nbformat": 4,
 "nbformat_minor": 5
}
