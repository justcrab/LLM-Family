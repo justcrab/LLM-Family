{
 "cells": [
  {
   "cell_type": "code",
   "execution_count": 9,
   "id": "initial_id",
   "metadata": {
    "ExecuteTime": {
     "end_time": "2024-07-26T12:38:12.727475Z",
     "start_time": "2024-07-26T12:38:12.718561Z"
    }
   },
   "outputs": [],
   "source": [
    "import os\n",
    "DEEPSEEK_API_KEY=\"your api_key\"\n",
    "BASE_URL=\"https://api.deepseek.com\"\n",
    "TAVILY_API_KEY=\"your api_key\"\n",
    "os.environ[\"TAVILY_API_KEY\"] = TAVILY_API_KEY"
   ]
  },
  {
   "cell_type": "markdown",
   "id": "5baf23f817935d41",
   "metadata": {},
   "source": [
    "Agent在langchain中支持很多类型，以下我列举一些大家常用的Agent Type:\n",
    "* 1 OpenAIFunctionsAgent\n",
    "* 2 ReactAgent\n",
    "* 3 SelfAskWithSearch\n",
    "* 4 StructuredChatAgent\n",
    "* 5 ToolCallingAgent\n",
    "### 1 OpenAIFunctionsAgent"
   ]
  },
  {
   "cell_type": "code",
   "execution_count": 10,
   "id": "7137122f73c3710c",
   "metadata": {
    "ExecuteTime": {
     "end_time": "2024-07-26T12:38:17.635977Z",
     "start_time": "2024-07-26T12:38:16.597142Z"
    }
   },
   "outputs": [
    {
     "name": "stdout",
     "output_type": "stream",
     "text": [
      "================================\u001b[1m System Message \u001b[0m================================\n",
      "\n",
      "You are a helpful assistant\n",
      "\n",
      "=============================\u001b[1m Messages Placeholder \u001b[0m=============================\n",
      "\n",
      "\u001b[33;1m\u001b[1;3m{chat_history}\u001b[0m\n",
      "\n",
      "================================\u001b[1m Human Message \u001b[0m=================================\n",
      "\n",
      "\u001b[33;1m\u001b[1;3m{input}\u001b[0m\n",
      "\n",
      "=============================\u001b[1m Messages Placeholder \u001b[0m=============================\n",
      "\n",
      "\u001b[33;1m\u001b[1;3m{agent_scratchpad}\u001b[0m\n"
     ]
    }
   ],
   "source": [
    "from langchain import hub\n",
    "from langchain.agents import create_openai_functions_agent, AgentExecutor\n",
    "from langchain_community.tools.tavily_search import TavilySearchResults\n",
    "\n",
    "tools = [TavilySearchResults(max_results=1)]\n",
    "prompt = hub.pull(\"hwchase17/openai-functions-agent\")\n",
    "prompt.pretty_print()"
   ]
  },
  {
   "cell_type": "markdown",
   "id": "88d1c2c7465d28f5",
   "metadata": {},
   "source": [
    "不带chat_history版本"
   ]
  },
  {
   "cell_type": "code",
   "execution_count": 12,
   "id": "df2dd4937e62440b",
   "metadata": {
    "ExecuteTime": {
     "end_time": "2024-07-26T12:41:05.412241Z",
     "start_time": "2024-07-26T12:41:03.267903Z"
    }
   },
   "outputs": [
    {
     "name": "stdout",
     "output_type": "stream",
     "text": [
      "\n",
      "\n",
      "\u001b[1m> Entering new AgentExecutor chain...\u001b[0m\n",
      "\u001b[32;1m\u001b[1;3m作为一个人工智能助手，我没有访问您个人信息的权限，因此无法知道您的名字。如果您愿意分享，您可以直接告诉我您的名字。\u001b[0m\n",
      "\n",
      "\u001b[1m> Finished chain.\u001b[0m\n"
     ]
    },
    {
     "data": {
      "text/plain": [
       "{'input': '我的名字是什么?',\n",
       " 'output': '作为一个人工智能助手，我没有访问您个人信息的权限，因此无法知道您的名字。如果您愿意分享，您可以直接告诉我您的名字。'}"
      ]
     },
     "execution_count": 12,
     "metadata": {},
     "output_type": "execute_result"
    }
   ],
   "source": [
    "from langchain_openai import ChatOpenAI\n",
    "llm = ChatOpenAI(model=\"deepseek-chat\", api_key=DEEPSEEK_API_KEY, base_url=BASE_URL)\n",
    "agent = create_openai_functions_agent(llm, tools, prompt)\n",
    "agent = AgentExecutor(agent=agent, tools=tools, verbose=True)\n",
    "agent.invoke({\"input\":\"我的名字是什么?\"})"
   ]
  },
  {
   "cell_type": "markdown",
   "id": "e2d982d02478e50d",
   "metadata": {},
   "source": [
    "携带chat_history版本"
   ]
  },
  {
   "cell_type": "code",
   "execution_count": 13,
   "id": "9c5fdc417bc8136",
   "metadata": {
    "ExecuteTime": {
     "end_time": "2024-07-26T12:43:16.055250Z",
     "start_time": "2024-07-26T12:43:14.477887Z"
    }
   },
   "outputs": [
    {
     "name": "stdout",
     "output_type": "stream",
     "text": [
      "\n",
      "\n",
      "\u001b[1m> Entering new AgentExecutor chain...\u001b[0m\n",
      "\u001b[32;1m\u001b[1;3m你的名字是Bob。很高兴认识你！如果你有任何问题或需要帮助，随时告诉我。\u001b[0m\n",
      "\n",
      "\u001b[1m> Finished chain.\u001b[0m\n"
     ]
    },
    {
     "data": {
      "text/plain": [
       "{'input': '我的名字是什么?',\n",
       " 'chat_history': [('user', 'hi, 我的名字是bob!'),\n",
       "  ('assistant', '你好bob，有什么可以帮助你的吗？')],\n",
       " 'output': '你的名字是Bob。很高兴认识你！如果你有任何问题或需要帮助，随时告诉我。'}"
      ]
     },
     "execution_count": 13,
     "metadata": {},
     "output_type": "execute_result"
    }
   ],
   "source": [
    "agent.invoke({\"input\":\"我的名字是什么?\", \"chat_history\": [(\"user\", \"hi, 我的名字是bob!\"), (\"assistant\", \"你好bob，有什么可以帮助你的吗？\")]})"
   ]
  },
  {
   "cell_type": "markdown",
   "id": "9928c737f58907c7",
   "metadata": {},
   "source": [
    "### 2 ReACT Agent"
   ]
  },
  {
   "cell_type": "code",
   "execution_count": 15,
   "id": "abfb9fc8bfedddbe",
   "metadata": {
    "ExecuteTime": {
     "end_time": "2024-07-26T12:45:30.748554Z",
     "start_time": "2024-07-26T12:45:25.700016Z"
    }
   },
   "outputs": [
    {
     "name": "stdout",
     "output_type": "stream",
     "text": [
      "\n",
      "\n",
      "\u001b[1m> Entering new AgentExecutor chain...\u001b[0m\n",
      "\u001b[32;1m\u001b[1;3mLangSmith是一个开源的、基于Python的工具，用于构建和部署自然语言处理（NLP）模型。它提供了一个框架，使开发者能够轻松地训练、测试和部署NLP模型，支持多种语言和任务，如文本分类、命名实体识别、情感分析等。LangSmith旨在简化NLP项目的开发流程，提高开发效率，并支持与其他机器学习和数据科学工具的集成。\u001b[0m\n",
      "\n",
      "\u001b[1m> Finished chain.\u001b[0m\n"
     ]
    },
    {
     "data": {
      "text/plain": [
       "{'input': '请告诉我LangSmith是什么?',\n",
       " 'output': 'LangSmith是一个开源的、基于Python的工具，用于构建和部署自然语言处理（NLP）模型。它提供了一个框架，使开发者能够轻松地训练、测试和部署NLP模型，支持多种语言和任务，如文本分类、命名实体识别、情感分析等。LangSmith旨在简化NLP项目的开发流程，提高开发效率，并支持与其他机器学习和数据科学工具的集成。'}"
      ]
     },
     "execution_count": 15,
     "metadata": {},
     "output_type": "execute_result"
    }
   ],
   "source": [
    "from langchain.agents import create_react_agent\n",
    "\n",
    "agent = create_openai_functions_agent(llm, tools, prompt)\n",
    "agent = AgentExecutor(agent=agent, tools=tools, verbose=True)\n",
    "agent.invoke({\"input\": \"请告诉我LangSmith是什么?\"})"
   ]
  },
  {
   "cell_type": "markdown",
   "id": "30119a03bbdebfba",
   "metadata": {},
   "source": [
    "### 3 Structured Agent"
   ]
  },
  {
   "cell_type": "code",
   "execution_count": 17,
   "id": "81749e32b1ec990d",
   "metadata": {
    "ExecuteTime": {
     "end_time": "2024-07-26T12:47:13.202498Z",
     "start_time": "2024-07-26T12:46:41.433881Z"
    }
   },
   "outputs": [
    {
     "name": "stdout",
     "output_type": "stream",
     "text": [
      "\n",
      "\n",
      "\u001b[1m> Entering new AgentExecutor chain...\u001b[0m\n",
      "\u001b[32;1m\u001b[1;3mAction:\n",
      "```\n",
      "{\n",
      "  \"action\": \"tavily_search_results_json\",\n",
      "  \"action_input\": \"What is LangSmith?\"\n",
      "}\n",
      "```\u001b[0m\u001b[36;1m\u001b[1;3m[{'url': 'https://www.geeksforgeeks.org/introduction-to-langsmith/', 'content': 'Langsmith is an innovative framework designed to enhance and streamline the development of natural language processing (NLP) applications. It builds upon LangChain, a popular library for chaining multiple language models together, to create sophisticated and flexible NLP workflows. Langsmith provides tools for managing, deploying, and scaling ...'}]\u001b[0m\u001b[32;1m\u001b[1;3m```\n",
      "{\n",
      "  \"action\": \"Final Answer\",\n",
      "  \"action_input\": \"LangSmith is an innovative framework designed to enhance and streamline the development of natural language processing (NLP) applications. It builds upon LangChain, a popular library for chaining multiple language models together, to create sophisticated and flexible NLP workflows. Langsmith provides tools for managing, deploying, and scaling these workflows.\"\n",
      "}\n",
      "```\u001b[0m\n",
      "\n",
      "\u001b[1m> Finished chain.\u001b[0m\n"
     ]
    },
    {
     "data": {
      "text/plain": [
       "{'input': '请告诉我LangSmith是什么?',\n",
       " 'output': 'LangSmith is an innovative framework designed to enhance and streamline the development of natural language processing (NLP) applications. It builds upon LangChain, a popular library for chaining multiple language models together, to create sophisticated and flexible NLP workflows. Langsmith provides tools for managing, deploying, and scaling these workflows.'}"
      ]
     },
     "execution_count": 17,
     "metadata": {},
     "output_type": "execute_result"
    }
   ],
   "source": [
    "from langchain.agents import create_structured_chat_agent\n",
    "\n",
    "prompt = hub.pull(\"hwchase17/structured-chat-agent\")\n",
    "agent = create_structured_chat_agent(llm, tools, prompt)\n",
    "agent = AgentExecutor(agent=agent, tools=tools, verbose=True)\n",
    "agent.invoke({\"input\": \"请告诉我LangSmith是什么?\"})"
   ]
  }
 ],
 "metadata": {
  "kernelspec": {
   "display_name": "Python 3",
   "language": "python",
   "name": "python3"
  },
  "language_info": {
   "codemirror_mode": {
    "name": "ipython",
    "version": 2
   },
   "file_extension": ".py",
   "mimetype": "text/x-python",
   "name": "python",
   "nbconvert_exporter": "python",
   "pygments_lexer": "ipython2",
   "version": "2.7.6"
  }
 },
 "nbformat": 4,
 "nbformat_minor": 5
}
