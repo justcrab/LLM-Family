{
 "cells": [
  {
   "cell_type": "code",
   "execution_count": 2,
   "id": "initial_id",
   "metadata": {
    "ExecuteTime": {
     "end_time": "2024-07-27T06:00:18.960402Z",
     "start_time": "2024-07-27T06:00:18.954403Z"
    },
    "collapsed": true
   },
   "outputs": [],
   "source": [
    "DEEPSEEK_API_KEY=\"your api_key\"\n",
    "BASE_URL=\"https://api.deepseek.com\""
   ]
  },
  {
   "cell_type": "markdown",
   "id": "ed26e07d7f698bc2",
   "metadata": {},
   "source": [
    "Sequential链：\n",
    "* 1 simple sequential: 输入输出只有一个变量\n",
    "* 2 complex sequential: 输入输出多个变量\n",
    "### 1 simple sequential"
   ]
  },
  {
   "cell_type": "code",
   "execution_count": 6,
   "id": "82e4fa64aef667a",
   "metadata": {
    "ExecuteTime": {
     "end_time": "2024-07-27T06:03:22.762647Z",
     "start_time": "2024-07-27T06:03:19.754172Z"
    }
   },
   "outputs": [
    {
     "name": "stderr",
     "output_type": "stream",
     "text": [
      "D:\\ProgramData\\Anaconda3\\envs\\agent\\lib\\site-packages\\langchain_core\\_api\\deprecation.py:139: LangChainDeprecationWarning: The class `LLMChain` was deprecated in LangChain 0.1.17 and will be removed in 1.0. Use RunnableSequence, e.g., `prompt | llm` instead.\n",
      "  warn_deprecated(\n"
     ]
    },
    {
     "name": "stdout",
     "output_type": "stream",
     "text": [
      "\n",
      "\n",
      "\u001b[1m> Entering new SimpleSequentialChain chain...\u001b[0m\n",
      "\u001b[36;1m\u001b[1;3m내 컴퓨터는 게임을 정말 잘 해요\u001b[0m\n",
      "\u001b[33;1m\u001b[1;3m我的电脑游戏玩得非常好。\u001b[0m\n",
      "\n",
      "\u001b[1m> Finished chain.\u001b[0m\n"
     ]
    },
    {
     "data": {
      "text/plain": [
       "{'input': '我的电脑玩的贼六', 'output': '我的电脑游戏玩得非常好。'}"
      ]
     },
     "execution_count": 6,
     "metadata": {},
     "output_type": "execute_result"
    }
   ],
   "source": [
    "from langchain_openai import ChatOpenAI\n",
    "from langchain_core.prompts import PromptTemplate\n",
    "from langchain.chains.llm import LLMChain\n",
    "from langchain.chains.sequential import SimpleSequentialChain, SequentialChain\n",
    "\n",
    "llm = ChatOpenAI(model=\"deepseek-chat\", api_key=DEEPSEEK_API_KEY, base_url=BASE_URL)\n",
    "\n",
    "zh_2_kr_template = \"\"\"假设你是一个享誉世界的翻译大师，你精通世界各国语言而且翻译能力非常厉害，请将以下内容从中文翻译为韩文:\n",
    "input:{input}\n",
    "output:\"\"\"\n",
    "\n",
    "kr_2_zh_template = \"\"\"假设你是一个享誉世界的翻译大师，你精通世界各国语言而且翻译能力非常厉害，请将以下内容从韩文翻译为中文:\n",
    "input:{input}\n",
    "output:\"\"\"\n",
    "\n",
    "zh_2_kr_prompt = PromptTemplate.from_template(zh_2_kr_template)\n",
    "kr_2_zh_prompt = PromptTemplate.from_template(kr_2_zh_template)\n",
    "\n",
    "zh_2_kr_llm = LLMChain(llm=llm, prompt=zh_2_kr_prompt)\n",
    "kr_2_zh_llm = LLMChain(llm=llm, prompt=kr_2_zh_prompt)\n",
    "\n",
    "chain = SimpleSequentialChain(chains=[zh_2_kr_llm, kr_2_zh_llm], verbose=True)\n",
    "chain.invoke(\"我的电脑玩的贼六\")"
   ]
  },
  {
   "cell_type": "markdown",
   "id": "3bc6bdd91f46151e",
   "metadata": {},
   "source": [
    "### 2 complex sequential"
   ]
  },
  {
   "cell_type": "code",
   "execution_count": 12,
   "id": "9445a03e77129322",
   "metadata": {
    "ExecuteTime": {
     "end_time": "2024-07-27T06:13:57.460639Z",
     "start_time": "2024-07-27T06:13:52.094518Z"
    }
   },
   "outputs": [
    {
     "name": "stdout",
     "output_type": "stream",
     "text": [
      "\n",
      "\n",
      "\u001b[1m> Entering new SequentialChain chain...\u001b[0m\n",
      "\n",
      "\u001b[1m> Finished chain.\u001b[0m\n"
     ]
    },
    {
     "data": {
      "text/plain": [
       "{'zh': '我电脑玩的贼6，你知道吧', 'max_len': '10', 'output': '我的电脑游戏玩得真的很厉害，你知道的吧？'}"
      ]
     },
     "execution_count": 12,
     "metadata": {},
     "output_type": "execute_result"
    }
   ],
   "source": [
    "zh_2_kr_template = \"\"\"假设你是一个享誉世界的翻译大师，你精通世界各国语言而且翻译能力非常厉害，请将以下内容从中文翻译为韩文:\n",
    "input:{zh}, 翻译不应该超过{max_len}长度\n",
    "output:\"\"\"\n",
    "\n",
    "kr_2_zh_template = \"\"\"假设你是一个享誉世界的翻译大师，你精通世界各国语言而且翻译能力非常厉害，请将以下内容从韩文翻译为中文:\n",
    "input:{kr}\n",
    "output:\"\"\"\n",
    "\n",
    "zh_2_kr_prompt = PromptTemplate(template=zh_2_kr_template, input_variables=[\"zh\", \"max_len\"])\n",
    "zh_2_kr_llm = LLMChain(llm=llm, prompt=zh_2_kr_prompt, output_key=\"kr\")\n",
    "\n",
    "kr_2_zh_prompt = PromptTemplate(template=kr_2_zh_template, input_variables=[\"kr\"])\n",
    "kr_2_zh_llm = LLMChain(llm=llm, prompt=kr_2_zh_prompt, output_key=\"output\")\n",
    "\n",
    "overall_chain = SequentialChain(chains=[zh_2_kr_llm, kr_2_zh_llm], input_variables=[\"zh\", \"max_len\"],\n",
    "    output_variables=[\"output\"], verbose=True)\n",
    "overall_chain.invoke({\"zh\": \"我电脑玩的贼6，你知道吧\", \"max_len\": \"10\"})"
   ]
  }
 ],
 "metadata": {
  "kernelspec": {
   "display_name": "Python 3",
   "language": "python",
   "name": "python3"
  },
  "language_info": {
   "codemirror_mode": {
    "name": "ipython",
    "version": 2
   },
   "file_extension": ".py",
   "mimetype": "text/x-python",
   "name": "python",
   "nbconvert_exporter": "python",
   "pygments_lexer": "ipython2",
   "version": "2.7.6"
  }
 },
 "nbformat": 4,
 "nbformat_minor": 5
}
