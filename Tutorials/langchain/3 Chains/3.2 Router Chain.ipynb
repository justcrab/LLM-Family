{
 "cells": [
  {
   "cell_type": "code",
   "execution_count": 1,
   "id": "initial_id",
   "metadata": {
    "ExecuteTime": {
     "end_time": "2024-07-27T05:16:32.881644Z",
     "start_time": "2024-07-27T05:16:32.870348Z"
    },
    "collapsed": true
   },
   "outputs": [],
   "source": [
    "DEEPSEEK_API_KEY=\"your api_key\"\n",
    "BASE_URL=\"https://api.deepseek.com\""
   ]
  },
  {
   "cell_type": "markdown",
   "id": "d1182ea5d6bc73dc",
   "metadata": {},
   "source": [
    "想象一下，现在你有这么一个功能，你创建了基于N个不同Prompt的机器人，你希望让模型自己选择使用哪个机器人回答你的问题，这种场景下路由就发挥作用了。  \n",
    "Router Chain利用LLM基于用户question选择使用哪个机器人进行回复。  \n",
    "MultiPromptChain:\n",
    "* 1 Default Chain\n",
    "* 2 LLMRouterChain\n",
    "* 3 Destination Chains"
   ]
  },
  {
   "cell_type": "code",
   "execution_count": 2,
   "id": "14d72f14b366f2ba",
   "metadata": {
    "ExecuteTime": {
     "end_time": "2024-07-27T05:27:46.669138Z",
     "start_time": "2024-07-27T05:27:45.482771Z"
    }
   },
   "outputs": [],
   "source": [
    "from langchain_openai import ChatOpenAI\n",
    "from langchain.chains.router import MultiPromptChain"
   ]
  },
  {
   "cell_type": "code",
   "execution_count": 3,
   "id": "65dde7d939142f40",
   "metadata": {
    "ExecuteTime": {
     "end_time": "2024-07-27T05:27:57.538966Z",
     "start_time": "2024-07-27T05:27:57.528889Z"
    }
   },
   "outputs": [],
   "source": [
    "physics_template = \"\"\"You are a very smart physics professor. \n",
    "You are great at answering questions about physics in a concise and easy to understand manner. \n",
    "When you don't know the answer to a question you admit that you don't know.\n",
    "\n",
    "Here is a question:\n",
    "{input}\"\"\"\n",
    "\n",
    "math_template = \"\"\"You are a very good mathematician. You are great at answering math questions. \n",
    "You are so good because you are able to break down hard problems into their component parts, \n",
    "answer the component parts, and then put them together to answer the broader question.\n",
    "\n",
    "Here is a question:\n",
    "{input}\"\"\""
   ]
  },
  {
   "cell_type": "code",
   "execution_count": 11,
   "id": "76b5392acd625afd",
   "metadata": {
    "ExecuteTime": {
     "end_time": "2024-07-27T05:38:13.024756Z",
     "start_time": "2024-07-27T05:38:12.987978Z"
    }
   },
   "outputs": [],
   "source": [
    "prompt_infos = [\n",
    "    {\n",
    "        \"name\": \"physics\",\n",
    "        \"description\": \"Good for answering questions about physics\",\n",
    "        \"prompt_template\": physics_template,\n",
    "    },\n",
    "    {\n",
    "        \"name\": \"math\",\n",
    "        \"description\": \"Good for answering math questions\",\n",
    "        \"prompt_template\": math_template,\n",
    "    },\n",
    "]\n",
    "llm = ChatOpenAI(model=\"deepseek-chat\", api_key=DEEPSEEK_API_KEY, base_url=BASE_URL)"
   ]
  },
  {
   "cell_type": "markdown",
   "id": "5ef0d941fe442881",
   "metadata": {},
   "source": [
    "MultiPromptChain.from_prompts中存在详细源码，可以细细探查一番"
   ]
  },
  {
   "cell_type": "code",
   "execution_count": 18,
   "id": "154ae0e01e1ad047",
   "metadata": {
    "ExecuteTime": {
     "end_time": "2024-07-27T05:41:42.474598Z",
     "start_time": "2024-07-27T05:41:42.465554Z"
    }
   },
   "outputs": [],
   "source": [
    "chain = MultiPromptChain.from_prompts(llm, prompt_infos, verbose=True)"
   ]
  },
  {
   "cell_type": "markdown",
   "id": "ea7cb8a3891e3e36",
   "metadata": {},
   "source": [
    "LLMChain选择physics chain回复"
   ]
  },
  {
   "cell_type": "code",
   "execution_count": 19,
   "id": "208f1589d39af05a",
   "metadata": {
    "ExecuteTime": {
     "end_time": "2024-07-27T05:42:03.675583Z",
     "start_time": "2024-07-27T05:41:47.314865Z"
    }
   },
   "outputs": [
    {
     "name": "stdout",
     "output_type": "stream",
     "text": [
      "\n",
      "\n",
      "\u001b[1m> Entering new MultiPromptChain chain...\u001b[0m\n",
      "physics: {'input': 'What is black body radiation?'}\n",
      "\u001b[1m> Finished chain.\u001b[0m\n"
     ]
    },
    {
     "data": {
      "text/plain": [
       "{'input': 'What is black body radiation?',\n",
       " 'text': 'Black body radiation refers to the electromagnetic radiation emitted by an idealized physical body called a \"black body\" that absorbs all incident electromagnetic radiation, regardless of frequency or angle of incidence. A black body is an idealized surface with no reflective properties; it absorbs and re-emits all the energy it receives.\\n\\nThe radiation emitted by a black body depends only on its temperature and not on the material\\'s composition or other properties. This radiation is a continuous spectrum, meaning it covers a wide range of wavelengths, and its distribution follows a specific pattern known as Planck\\'s law.\\n\\nAt low temperatures, most of the emitted radiation is in the infrared region of the electromagnetic spectrum, making it invisible to the human eye. As the temperature increases, the peak of the radiation shifts towards shorter wavelengths, eventually including visible light. This is why objects at higher temperatures, like the Sun or a heated metal, emit visible light and appear to glow.\\n\\nThe study of black body radiation played a crucial role in the development of quantum mechanics, as it was one of the phenomena that could not be explained by classical physics. Max Planck\\'s derivation of the black body radiation formula in 1900 introduced the concept of quantization of energy, which laid the foundation for quantum theory.'}"
      ]
     },
     "execution_count": 19,
     "metadata": {},
     "output_type": "execute_result"
    }
   ],
   "source": [
    "chain.invoke(\"What is black body radiation?\")"
   ]
  },
  {
   "cell_type": "markdown",
   "id": "c12996e160c1336e",
   "metadata": {},
   "source": [
    "LLMChain选择math chain回复"
   ]
  },
  {
   "cell_type": "code",
   "execution_count": 20,
   "id": "5b2d52ed14e34277",
   "metadata": {
    "ExecuteTime": {
     "end_time": "2024-07-27T05:42:50.022817Z",
     "start_time": "2024-07-27T05:42:10.423463Z"
    }
   },
   "outputs": [
    {
     "name": "stdout",
     "output_type": "stream",
     "text": [
      "\n",
      "\n",
      "\u001b[1m> Entering new MultiPromptChain chain...\u001b[0m\n",
      "math: {'input': 'What is the first prime number greater than 40 such that one plus the prime number is divisible by 3'}\n",
      "\u001b[1m> Finished chain.\u001b[0m\n"
     ]
    },
    {
     "data": {
      "text/plain": [
       "{'input': 'What is the first prime number greater than 40 such that one plus the prime number is divisible by 3',\n",
       " 'text': 'To find the first prime number greater than 40 such that one plus the prime number is divisible by 3, we can follow these steps:\\n\\n1. **Identify the prime numbers greater than 40**: The prime numbers greater than 40 are 41, 43, 47, 53, 59, 61, 67, 71, etc.\\n\\n2. **Check the condition for each prime number**: We need to check if \\\\( p + 1 \\\\) is divisible by 3, where \\\\( p \\\\) is the prime number.\\n\\n   - For \\\\( p = 41 \\\\):\\n     \\\\[\\n     41 + 1 = 42\\n     \\\\]\\n     \\\\( 42 \\\\div 3 = 14 \\\\), which is an integer. So, 41 satisfies the condition.\\n\\n   - For \\\\( p = 43 \\\\):\\n     \\\\[\\n     43 + 1 = 44\\n     \\\\]\\n     \\\\( 44 \\\\div 3 = 14.6667 \\\\), which is not an integer. So, 43 does not satisfy the condition.\\n\\n   - For \\\\( p = 47 \\\\):\\n     \\\\[\\n     47 + 1 = 48\\n     \\\\]\\n     \\\\( 48 \\\\div 3 = 16 \\\\), which is an integer. So, 47 satisfies the condition.\\n\\n   - For \\\\( p = 53 \\\\):\\n     \\\\[\\n     53 + 1 = 54\\n     \\\\]\\n     \\\\( 54 \\\\div 3 = 18 \\\\), which is an integer. So, 53 satisfies the condition.\\n\\n   - For \\\\( p = 59 \\\\):\\n     \\\\[\\n     59 + 1 = 60\\n     \\\\]\\n     \\\\( 60 \\\\div 3 = 20 \\\\), which is an integer. So, 59 satisfies the condition.\\n\\n   - For \\\\( p = 61 \\\\):\\n     \\\\[\\n     61 + 1 = 62\\n     \\\\]\\n     \\\\( 62 \\\\div 3 = 20.6667 \\\\), which is not an integer. So, 61 does not satisfy the condition.\\n\\n   - For \\\\( p = 67 \\\\):\\n     \\\\[\\n     67 + 1 = 68\\n     \\\\]\\n     \\\\( 68 \\\\div 3 = 22.6667 \\\\), which is not an integer. So, 67 does not satisfy the condition.\\n\\n   - For \\\\( p = 71 \\\\):\\n     \\\\[\\n     71 + 1 = 72\\n     \\\\]\\n     \\\\( 72 \\\\div 3 = 24 \\\\), which is an integer. So, 71 satisfies the condition.\\n\\n3. **Determine the first prime number that satisfies the condition**: From the above checks, the first prime number greater than 40 such that \\\\( p + 1 \\\\) is divisible by 3 is 41.\\n\\nTherefore, the first prime number greater than 40 such that one plus the prime number is divisible by 3 is \\\\( \\\\boxed{41} \\\\).'}"
      ]
     },
     "execution_count": 20,
     "metadata": {},
     "output_type": "execute_result"
    }
   ],
   "source": [
    "chain.invoke(\"What is the first prime number greater than 40 such that one plus the prime number is divisible by 3\")"
   ]
  },
  {
   "cell_type": "markdown",
   "id": "914646cf5478c85d",
   "metadata": {},
   "source": [
    "LLMChain选择default chain回复"
   ]
  },
  {
   "cell_type": "code",
   "execution_count": 21,
   "id": "67747ec48937e9f",
   "metadata": {
    "ExecuteTime": {
     "end_time": "2024-07-27T05:43:19.681028Z",
     "start_time": "2024-07-27T05:43:09.572531Z"
    }
   },
   "outputs": [
    {
     "name": "stdout",
     "output_type": "stream",
     "text": [
      "\n",
      "\n",
      "\u001b[1m> Entering new MultiPromptChain chain...\u001b[0m\n",
      "None: {'input': 'What is the name of the type of cloud that produces rain?'}\n",
      "\u001b[1m> Finished chain.\u001b[0m\n"
     ]
    },
    {
     "data": {
      "text/plain": [
       "{'input': 'What is the name of the type of cloud that produces rain?',\n",
       " 'history': '',\n",
       " 'text': 'Oh, that would be the cumulonimbus cloud! These clouds are quite fascinating, as they are associated with heavy rain, thunderstorms, and even hail. They form from the rising and cooling of moist air, which then condenses into towering cloud formations that can reach high into the atmosphere, sometimes even up to 50,000 feet! The name \"cumulonimbus\" comes from the Latin words \"cumulus\" meaning \"heaped\" and \"nimbus\" meaning \"rain cloud.\" So, when you see those big, puffy, and often dark clouds looming in the sky, you can bet they\\'re cumulonimbus clouds getting ready to bring some rain!'}"
      ]
     },
     "execution_count": 21,
     "metadata": {},
     "output_type": "execute_result"
    }
   ],
   "source": [
    "chain.invoke(\"What is the name of the type of cloud that rains\")"
   ]
  }
 ],
 "metadata": {
  "kernelspec": {
   "display_name": "Python 3",
   "language": "python",
   "name": "python3"
  },
  "language_info": {
   "codemirror_mode": {
    "name": "ipython",
    "version": 2
   },
   "file_extension": ".py",
   "mimetype": "text/x-python",
   "name": "python",
   "nbconvert_exporter": "python",
   "pygments_lexer": "ipython2",
   "version": "2.7.6"
  }
 },
 "nbformat": 4,
 "nbformat_minor": 5
}
