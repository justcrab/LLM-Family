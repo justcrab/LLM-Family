{
 "cells": [
  {
   "cell_type": "code",
   "id": "initial_id",
   "metadata": {
    "collapsed": true,
    "ExecuteTime": {
     "end_time": "2024-07-27T04:53:35.881978Z",
     "start_time": "2024-07-27T04:53:35.871973Z"
    }
   },
   "source": [
    "DEEPSEEK_API_KEY=\"your api_key\"\n",
    "BASE_URL=\"https://api.deepseek.com\""
   ],
   "outputs": [],
   "execution_count": 1
  },
  {
   "metadata": {},
   "cell_type": "markdown",
   "source": "",
   "id": "2aaec8f956595a76"
  },
  {
   "metadata": {},
   "cell_type": "markdown",
   "source": [
    "Chain是Langchain中的核心，Chain可以组织LLM和Prompt以及Memory，通过不同的Chain的配合可以实现工作流。  \n",
    "本小节主要介绍Chain如何进行调用。  \n",
    "Langchain中Chain的调用有:\n",
    "* 1 \\__call\\__() -- input为字典,output为字典\n",
    "* 2 .run() -- input为字典,output为str\n",
    "* 3 .predict()  -- input为关键字参数形式,output为str\n",
    "* 4 .invoke() -- 未来的主流形式，和\\__call\\__()基本一致，input为字典,output为字典\n",
    "* 5 .apply() || .generate()  -- 针对input_list\n",
    "    * 4.1 .apply() -- 返回字符串\n",
    "    * 4.2 .generate() -- 返回LLMResult对象\n",
    "### 1 \\__call\\__()  \n",
    "当输入只有一个参数时，可以省略字典形式，直接输入字符串即可。"
   ],
   "id": "57468560bc315318"
  },
  {
   "metadata": {
    "ExecuteTime": {
     "end_time": "2024-07-27T05:04:06.030628Z",
     "start_time": "2024-07-27T05:04:05.421577Z"
    }
   },
   "cell_type": "code",
   "source": [
    "from langchain_core.prompts import PromptTemplate\n",
    "from langchain_openai import ChatOpenAI\n",
    "from langchain.chains import LLMChain\n",
    "\n",
    "prompt = PromptTemplate.from_template(\"give a good name for a company that makes {product}? just shortly\")\n",
    "llm = ChatOpenAI(model=\"deepseek-chat\", api_key=DEEPSEEK_API_KEY, base_url=BASE_URL)\n",
    "llm_chain = LLMChain(llm=llm, prompt=prompt)\n",
    "llm_chain(\"socks\")"
   ],
   "id": "a2f85cd8e51065ea",
   "outputs": [
    {
     "data": {
      "text/plain": [
       "{'product': 'socks', 'text': 'Sockify'}"
      ]
     },
     "execution_count": 3,
     "metadata": {},
     "output_type": "execute_result"
    }
   ],
   "execution_count": 3
  },
  {
   "metadata": {},
   "cell_type": "markdown",
   "source": [
    "### 2 .run()  \n",
    "当输入只有一个参数时，可以省略字典形式，直接输入字符串即可。"
   ],
   "id": "bd54639c06120e89"
  },
  {
   "metadata": {
    "ExecuteTime": {
     "end_time": "2024-07-27T05:05:12.857813Z",
     "start_time": "2024-07-27T05:05:12.230470Z"
    }
   },
   "cell_type": "code",
   "source": "llm_chain.run(\"socks\")",
   "id": "a676c14497a10abb",
   "outputs": [
    {
     "name": "stderr",
     "output_type": "stream",
     "text": [
      "D:\\ProgramData\\Anaconda3\\envs\\agent\\lib\\site-packages\\langchain_core\\_api\\deprecation.py:139: LangChainDeprecationWarning: The method `Chain.run` was deprecated in langchain 0.1.0 and will be removed in 0.3.0. Use invoke instead.\n",
      "  warn_deprecated(\n"
     ]
    },
    {
     "data": {
      "text/plain": [
       "'Sockify'"
      ]
     },
     "execution_count": 4,
     "metadata": {},
     "output_type": "execute_result"
    }
   ],
   "execution_count": 4
  },
  {
   "metadata": {},
   "cell_type": "markdown",
   "source": "### 3 .predict()",
   "id": "2e6fafa66814bf82"
  },
  {
   "metadata": {
    "ExecuteTime": {
     "end_time": "2024-07-27T05:06:05.386316Z",
     "start_time": "2024-07-27T05:06:04.826010Z"
    }
   },
   "cell_type": "code",
   "source": "llm_chain.predict(product=\"socks\")",
   "id": "c6b68611ee4d802c",
   "outputs": [
    {
     "data": {
      "text/plain": [
       "'Sockify'"
      ]
     },
     "execution_count": 6,
     "metadata": {},
     "output_type": "execute_result"
    }
   ],
   "execution_count": 6
  },
  {
   "metadata": {},
   "cell_type": "markdown",
   "source": "### 4 .invoke()",
   "id": "76a911c6de740803"
  },
  {
   "metadata": {
    "ExecuteTime": {
     "end_time": "2024-07-27T05:07:12.759194Z",
     "start_time": "2024-07-27T05:07:12.009130Z"
    }
   },
   "cell_type": "code",
   "source": "llm_chain.invoke({\"product\": \"socks\"})",
   "id": "f41d71696e88bd4b",
   "outputs": [
    {
     "data": {
      "text/plain": [
       "{'product': 'socks', 'text': 'Sockify'}"
      ]
     },
     "execution_count": 8,
     "metadata": {},
     "output_type": "execute_result"
    }
   ],
   "execution_count": 8
  }
 ],
 "metadata": {
  "kernelspec": {
   "display_name": "Python 3",
   "language": "python",
   "name": "python3"
  },
  "language_info": {
   "codemirror_mode": {
    "name": "ipython",
    "version": 2
   },
   "file_extension": ".py",
   "mimetype": "text/x-python",
   "name": "python",
   "nbconvert_exporter": "python",
   "pygments_lexer": "ipython2",
   "version": "2.7.6"
  }
 },
 "nbformat": 4,
 "nbformat_minor": 5
}
